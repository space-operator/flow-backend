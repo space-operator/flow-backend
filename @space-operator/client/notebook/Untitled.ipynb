{
 "cells": [
  {
   "cell_type": "code",
   "execution_count": 2,
   "id": "b679f896-b963-4576-bf21-d3af8792f71d",
   "metadata": {},
   "outputs": [],
   "source": [
    "import * as lib from '../src/mod.ts';"
   ]
  },
  {
   "cell_type": "code",
   "execution_count": 16,
   "id": "a35db6ea-232e-4de7-95df-33f656ff2562",
   "metadata": {},
   "outputs": [],
   "source": [
    "let innerBody = new lib.Value({\n",
    "    \"inputs\": {\n",
    "        \"M\": {\n",
    "            \"uri\": {\n",
    "                \"S\": \"https://j45eekk7guujcl6hxt4xxjkaceqhomvgkgnda6uz76hrmymj7zea.arweave.net/TzpCKV81KJEvx7z5e6VAESB3MqZRmjB6mf-PFmGJ_kg\"\n",
    "            },\n",
    "            \"supply\": {\n",
    "                \"D\": \"100000\"\n",
    "            },\n",
    "            \"decimals\": {\n",
    "                \"D\": \"9\"\n",
    "            },\n",
    "            \"fee_payer\": {\n",
    "                \"S\": \"GDLeqUvBoC4uUwdNTge5c2WrJPEs6XDTz91xGnLiFEoxQ8SeThsuYHhsK6jTMWbEFAQrHciwMmqK9H8QQsdsDJU\"\n",
    "            },\n",
    "            \"is_mutable\": {\n",
    "                \"B\": false\n",
    "            },\n",
    "            \"mint_authority\": {\n",
    "                \"S\": \"GDLeqUvBoC4uUwdNTge5c2WrJPEs6XDTz91xGnLiFEoxQ8SeThsuYHhsK6jTMWbEFAQrHciwMmqK9H8QQsdsDJU\"\n",
    "            }\n",
    "        }\n",
    "    }\n",
    "});"
   ]
  },
  {
   "cell_type": "code",
   "execution_count": 22,
   "id": "d88438db-1501-4c8c-983e-354c26b0b888",
   "metadata": {},
   "outputs": [
    {
     "name": "stdout",
     "output_type": "stream",
     "text": [
      "{\n",
      "  \"M\": {\n",
      "    \"inputs\": {\n",
      "      \"M\": {\n",
      "        \"M\": {\n",
      "          \"M\": {\n",
      "            \"uri\": {\n",
      "              \"M\": {\n",
      "                \"S\": {\n",
      "                  \"S\": \"https://j45eekk7guujcl6hxt4xxjkaceqhomvgkgnda6uz76hrmymj7zea.arweave.net/TzpCKV81KJEvx7z5e6VAESB3MqZRmjB6mf-PFmGJ_kg\"\n",
      "                }\n",
      "              }\n",
      "            },\n",
      "            \"supply\": {\n",
      "              \"M\": {\n",
      "                \"D\": {\n",
      "                  \"S\": \"100000\"\n",
      "                }\n",
      "              }\n",
      "            },\n",
      "            \"decimals\": {\n",
      "              \"M\": {\n",
      "                \"D\": {\n",
      "                  \"S\": \"9\"\n",
      "                }\n",
      "              }\n",
      "            },\n",
      "            \"fee_payer\": {\n",
      "              \"M\": {\n",
      "                \"S\": {\n",
      "                  \"S\": \"GDLeqUvBoC4uUwdNTge5c2WrJPEs6XDTz91xGnLiFEoxQ8SeThsuYHhsK6jTMWbEFAQrHciwMmqK9H8QQsdsDJU\"\n",
      "                }\n",
      "              }\n",
      "            },\n",
      "            \"is_mutable\": {\n",
      "              \"M\": {\n",
      "                \"B\": {\n",
      "                  \"B\": false\n",
      "                }\n",
      "              }\n",
      "            },\n",
      "            \"mint_authority\": {\n",
      "              \"M\": {\n",
      "                \"S\": {\n",
      "                  \"S\": \"GDLeqUvBoC4uUwdNTge5c2WrJPEs6XDTz91xGnLiFEoxQ8SeThsuYHhsK6jTMWbEFAQrHciwMmqK9H8QQsdsDJU\"\n",
      "                }\n",
      "              }\n",
      "            }\n",
      "          }\n",
      "        }\n",
      "      }\n",
      "    }\n",
      "  }\n",
      "}\n"
     ]
    }
   ],
   "source": [
    "console.log(JSON.stringify(innerBody, null, 2));"
   ]
  },
  {
   "cell_type": "code",
   "execution_count": 13,
   "id": "b9d3a449-e0ae-4f21-b50f-abbd37cb622c",
   "metadata": {},
   "outputs": [
    {
     "data": {
      "text/plain": [
       "Value { M: { S: Value { S: \u001b[32m\"100\"\u001b[39m } } }"
      ]
     },
     "execution_count": 13,
     "metadata": {},
     "output_type": "execute_result"
    }
   ],
   "source": [
    "y"
   ]
  }
 ],
 "metadata": {
  "kernelspec": {
   "display_name": "Deno",
   "language": "typescript",
   "name": "deno"
  },
  "language_info": {
   "codemirror_mode": "typescript",
   "file_extension": ".ts",
   "mimetype": "text/x.typescript",
   "name": "typescript",
   "nbconvert_exporter": "script",
   "pygments_lexer": "typescript",
   "version": "5.6.2"
  }
 },
 "nbformat": 4,
 "nbformat_minor": 5
}
